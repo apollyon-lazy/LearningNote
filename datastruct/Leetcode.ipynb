{
 "cells": [
  {
   "cell_type": "code",
   "execution_count": 1,
   "metadata": {},
   "outputs": [
    {
     "name": "stdout",
     "output_type": "stream",
     "text": [
      "[0, 1, 2, 3, 4, 5, 7, 8, 9]\n",
      "[0, 1, 2, 3, 5, 7, 8, 9]\n",
      "[0, 1, 2, 3, 7, 8, 9]\n",
      "[0, 1, 2, 3, 7, 8]\n",
      "[0, 1, 2, 3, 8]\n",
      "[1, 2, 3, 8]\n",
      "[2, 3, 8]\n",
      "[2, 8]\n",
      "[2]\n",
      "[]\n"
     ]
    },
    {
     "data": {
      "text/plain": [
       "2"
      ]
     },
     "execution_count": 1,
     "metadata": {},
     "output_type": "execute_result"
    }
   ],
   "source": [
    "def lastRemaining(n: int, m: int) -> int:\n",
    "    arr = list(range(n))\n",
    "    i = m \n",
    "    while arr: \n",
    "        while i > n:\n",
    "            i -= n\n",
    "        result = arr.pop(i-1)\n",
    "        print(arr) \n",
    "        n -= 1 \n",
    "        i = i + m - 1 \n",
    "    return result\n",
    "lastRemaining(10,17)"
   ]
  },
  {
   "cell_type": "code",
   "execution_count": 2,
   "metadata": {},
   "outputs": [
    {
     "data": {
      "text/plain": [
       "2"
      ]
     },
     "execution_count": 2,
     "metadata": {},
     "output_type": "execute_result"
    }
   ],
   "source": [
    "num = [3, 5, 5, 9]\n",
    "num.count(5)"
   ]
  },
  {
   "cell_type": "code",
   "execution_count": 15,
   "metadata": {},
   "outputs": [
    {
     "name": "stdout",
     "output_type": "stream",
     "text": [
      "Help on built-in function pop:\n",
      "\n",
      "pop(index=-1, /) method of builtins.list instance\n",
      "    Remove and return item at index (default last).\n",
      "    \n",
      "    Raises IndexError if list is empty or index is out of range.\n",
      "\n"
     ]
    }
   ],
   "source": []
  },
  {
   "cell_type": "code",
   "execution_count": 13,
   "metadata": {},
   "outputs": [
    {
     "name": "stdout",
     "output_type": "stream",
     "text": [
      "Help on method_descriptor:\n",
      "\n",
      "pop(self, index=-1, /)\n",
      "    Remove and return item at index (default last).\n",
      "    \n",
      "    Raises IndexError if list is empty or index is out of range.\n",
      "\n"
     ]
    }
   ],
   "source": [
    "help(.pop)"
   ]
  }
 ],
 "metadata": {
  "kernelspec": {
   "display_name": "Python 3.9.12 ('D2L')",
   "language": "python",
   "name": "python3"
  },
  "language_info": {
   "codemirror_mode": {
    "name": "ipython",
    "version": 3
   },
   "file_extension": ".py",
   "mimetype": "text/x-python",
   "name": "python",
   "nbconvert_exporter": "python",
   "pygments_lexer": "ipython3",
   "version": "3.9.12"
  },
  "orig_nbformat": 4,
  "vscode": {
   "interpreter": {
    "hash": "3d851a414fdd845bfa8f48e7264b4dfc9dcd5160173adfe6311d45ffdb836796"
   }
  }
 },
 "nbformat": 4,
 "nbformat_minor": 2
}
