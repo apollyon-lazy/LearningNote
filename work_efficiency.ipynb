{
 "cells": [
  {
   "cell_type": "markdown",
   "id": "ea1fdb46",
   "metadata": {},
   "source": [
    "### 如何提高工作效率？"
   ]
  },
  {
   "cell_type": "markdown",
   "id": "ac6c8659",
   "metadata": {},
   "source": [
    "#### 文献篇"
   ]
  },
  {
   "cell_type": "markdown",
   "id": "1fed113e",
   "metadata": {},
   "source": [
    "- 搜索文献\n",
    "    - 如何搜 \n",
    "        - 按照 不同关键词组合 相关领域大牛所有文章 搜索文献\n",
    "    - 搜多少\n",
    "        - 搜索大致 十篇左右 文献后开始阅读\n",
    "- 阅读文献\n",
    "    - 粗读 下载后先只阅读摘要和简介了解概况\n",
    "    - 细读 选择与自己相关的部分 研读\n",
    "- 文献笔记\n",
    "    - 文献上笔记 \n",
    "        - 笔记工具 Endnote + 数位板\n",
    "        - 笔记什么 重要观点划线 有用的文献引用标注 符号公式程序方法的解释        \n",
    "    - 文献下笔记 \n",
    "        - 笔记工具 word + snipaste\n",
    "        - 笔记什么 文献信息 文献内容观点总结(最好是原观点，原图) 自己想要表达的内容 "
   ]
  },
  {
   "cell_type": "markdown",
   "id": "8277ef43",
   "metadata": {},
   "source": [
    "#### 学习篇"
   ]
  },
  {
   "cell_type": "markdown",
   "id": "45794fdf",
   "metadata": {},
   "source": [
    "- 学习流程\n",
    "    - 参考博客知乎学习流程总结\n",
    "- 学习资料来源\n",
    "    - 老师同学推荐 书籍 视频 网站\n",
    "- 如何笔记\n",
    "    - 电子书籍上笔记 同文献\n",
    "    - 电子书籍下笔记 优先使用别人的笔记 \n",
    "        - 写得完整的 可以收藏查阅 \n",
    "        - 写的有用的 可以提炼归纳   \n",
    "        - 写的要用的 可以移植更改\n",
    "        - 写的复杂的 可以编写阅读须知\n",
    "    - 视频 网站 同电子书籍下笔记"
   ]
  },
  {
   "cell_type": "markdown",
   "id": "0f0f24a1",
   "metadata": {},
   "source": [
    "#### 程序篇"
   ]
  },
  {
   "cell_type": "markdown",
   "id": "ac7823a7",
   "metadata": {},
   "source": [
    "- 编程语言语法\n",
    "    - 查询 电子书籍和网站\n",
    "    - 归纳 常用函数或注意要点\n",
    "- 代码案例\n",
    "    - 论文中的代码需要自己浮现\n",
    "    - 书籍中的代码要看配套资源\n",
    "    - 官网中的代码要看官方文档\n",
    "    - 博客中的代码要选择性利用\n"
   ]
  },
  {
   "cell_type": "markdown",
   "id": "d86d2e09",
   "metadata": {},
   "source": [
    "#### 项目篇"
   ]
  },
  {
   "cell_type": "markdown",
   "id": "3fbe15f3",
   "metadata": {},
   "source": [
    "- 时间安排\n",
    "    - 要将问题逐步细分完成\n",
    "    - 同时并行任务不能太多\n",
    "    - 要预留足时间做出成果\n",
    "- 归纳总结\n",
    "    - 收获技巧要总结"
   ]
  },
  {
   "cell_type": "markdown",
   "id": "ba46789e",
   "metadata": {},
   "source": [
    "### 备注"
   ]
  },
  {
   "cell_type": "markdown",
   "id": "2e63722a",
   "metadata": {},
   "source": [
    "> 由于工作效率是抽象概念，总结的经验很难描述清楚，后期可以举示例或者图片等多种形式展现  \n",
    "> 本此工作效率更新为 2022-7-31 14-30"
   ]
  },
  {
   "cell_type": "code",
   "execution_count": null,
   "id": "1600bd68",
   "metadata": {},
   "outputs": [],
   "source": []
  }
 ],
 "metadata": {
  "kernelspec": {
   "display_name": "D2L",
   "language": "python",
   "name": "d2l"
  },
  "language_info": {
   "codemirror_mode": {
    "name": "ipython",
    "version": 3
   },
   "file_extension": ".py",
   "mimetype": "text/x-python",
   "name": "python",
   "nbconvert_exporter": "python",
   "pygments_lexer": "ipython3",
   "version": "3.9.12"
  },
  "toc": {
   "base_numbering": 1,
   "nav_menu": {
    "height": "51px",
    "width": "160px"
   },
   "number_sections": false,
   "sideBar": false,
   "skip_h1_title": false,
   "title_cell": "Table of Contents",
   "title_sidebar": "Contents",
   "toc_cell": false,
   "toc_position": {
    "height": "512.364px",
    "left": "911px",
    "top": "111.136px",
    "width": "279.273px"
   },
   "toc_section_display": false,
   "toc_window_display": true
  }
 },
 "nbformat": 4,
 "nbformat_minor": 5
}
