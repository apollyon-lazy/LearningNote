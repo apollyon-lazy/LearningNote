{
 "cells": [
  {
   "cell_type": "markdown",
   "metadata": {},
   "source": [
    "## 排序算法"
   ]
  },
  {
   "cell_type": "markdown",
   "metadata": {},
   "source": [
    "#### 冒泡算法\n",
    "1. 比较相邻的元素。如果第一个比第二个大（从小到大排序），就交换他们两个。\n",
    "2. 对每一对相邻元素作同样的工作，从开始第一对到结尾的最后一对。这步做完后，最后的元素会是最大的数。\n",
    "3. 除了最后一个元素，针对其他所有的元素重复以上步骤。\n",
    "4. 持续每次对越来越少的元素重复上面的步骤，直到没有任何一对数字需要比较。"
   ]
  },
  {
   "cell_type": "code",
   "execution_count": 10,
   "metadata": {},
   "outputs": [
    {
     "data": {
      "text/plain": [
       "[0, 1, 2, 3, 4, 5, 6, 7, 8, 9]"
      ]
     },
     "execution_count": 10,
     "metadata": {},
     "output_type": "execute_result"
    }
   ],
   "source": [
    "def BubbleSort(arr):\n",
    "    for i in range(1, len(arr)):\n",
    "        for j in range(0, len(arr)-i):\n",
    "            if arr[j] > arr[j+1]: # 排序顺序只改这行\n",
    "                arr[j], arr[j + 1] = arr[j + 1], arr[j]\n",
    "    return arr\n",
    "a = [3, 2, 4, 7, 8, 5, 1, 9, 0, 6]\n",
    "BubbleSort(a)"
   ]
  },
  {
   "cell_type": "markdown",
   "metadata": {},
   "source": [
    "#### 选择排序\n",
    "1. 首先在未排序序列中找到最小（大）元素，存放到排序序列的起始位置。\n",
    "2. 再从剩余未排序元素中继续寻找最小（大）元素，然后放到已排序序列的末尾。\n",
    "3. 重复第二步，直到所有元素均排序完毕。"
   ]
  },
  {
   "cell_type": "code",
   "execution_count": 10,
   "metadata": {},
   "outputs": [
    {
     "data": {
      "text/plain": [
       "[9, 8, 7, 6, 5, 4, 3, 2, 1, 0]"
      ]
     },
     "execution_count": 10,
     "metadata": {},
     "output_type": "execute_result"
    }
   ],
   "source": [
    "def SelectSort(arr):\n",
    "    for i in range(0, len(arr)-1):\n",
    "        maxIndex = i\n",
    "        for j in range(i + 1, len(arr)):\n",
    "            if arr[j] > arr[maxIndex]:  # 排序顺序只改这行\n",
    "                maxIndex = j  # 注释\n",
    "        if i != maxIndex:  # 注释\n",
    "            arr[i], arr[maxIndex] = arr[maxIndex], arr[i]\n",
    "    return arr\n",
    "\n",
    "\n",
    "a = [3, 2, 4, 7, 8, 5, 1, 9, 0, 6]\n",
    "SelectSort(a)\n"
   ]
  },
  {
   "cell_type": "markdown",
   "metadata": {},
   "source": [
    "#### 插入排序\n",
    "\n",
    "1. 将第一待排序序列第一个元素看做一个有序序列，把第二个元素到最后一个元素当成是未排序序列。\n",
    "2. 从头到尾依次扫描未排序序列，将扫描到的每个元素插入有序序列的适当位置。（如果待插入的元素与有序序列中的某个元素相等，则将待插入元素插入到相等元素的后面。）"
   ]
  },
  {
   "cell_type": "code",
   "execution_count": 39,
   "metadata": {},
   "outputs": [
    {
     "data": {
      "text/plain": [
       "[9, 8, 7, 6, 5, 4, 3, 2, 1, 0]"
      ]
     },
     "execution_count": 39,
     "metadata": {},
     "output_type": "execute_result"
    }
   ],
   "source": [
    "# 错误原因：range无法生成逆序列 \n",
    "'''\n",
    "def InsertSort(arr):\n",
    "    for i in range(1,len(arr)):\n",
    "        maxIndex = i\n",
    "        for j in range(i-1, 0):\n",
    "            if arr[j] > arr[i]:\n",
    "                maxIndex = j\n",
    "        if maxIndex != i:\n",
    "            arr[j], arr[maxIndex] = arr[maxIndex], arr[j]\n",
    "    return arr\n",
    "'''\n",
    "def InsertSort(arr):\n",
    "    for i in range(1,len(arr)):\n",
    "        preIndex = i-1\n",
    "        current = arr[i]\n",
    "        while preIndex >= 0 and arr[preIndex] < current: # 排序顺序只改这行 \n",
    "            arr[preIndex+1] = arr[preIndex]\n",
    "            preIndex-=1\n",
    "        arr[preIndex+1] = current\n",
    "    return arr\n",
    "a = [3, 2, 4, 7, 8, 5, 1, 9, 0, 6]    \n",
    "InsertSort(a)  "
   ]
  }
 ],
 "metadata": {
  "kernelspec": {
   "display_name": "Python 3.9.12 ('D2L')",
   "language": "python",
   "name": "python3"
  },
  "language_info": {
   "codemirror_mode": {
    "name": "ipython",
    "version": 3
   },
   "file_extension": ".py",
   "mimetype": "text/x-python",
   "name": "python",
   "nbconvert_exporter": "python",
   "pygments_lexer": "ipython3",
   "version": "3.9.12"
  },
  "orig_nbformat": 4,
  "vscode": {
   "interpreter": {
    "hash": "3d851a414fdd845bfa8f48e7264b4dfc9dcd5160173adfe6311d45ffdb836796"
   }
  }
 },
 "nbformat": 4,
 "nbformat_minor": 2
}
