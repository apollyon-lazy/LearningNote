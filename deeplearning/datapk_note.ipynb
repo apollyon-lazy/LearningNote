{
 "cells": [
  {
   "cell_type": "markdown",
   "id": "53af8196",
   "metadata": {},
   "source": [
    "# 数据三剑客(Numpy、Pandas、matplotlib)的一些用法"
   ]
  },
  {
   "cell_type": "markdown",
   "id": "2eff616f",
   "metadata": {},
   "source": [
    "### Numpy"
   ]
  },
  {
   "cell_type": "markdown",
   "id": "86516008",
   "metadata": {
    "ExecuteTime": {
     "end_time": "2022-07-28T13:28:44.415168Z",
     "start_time": "2022-07-28T13:28:44.295950Z"
    }
   },
   "source": [
    "np.asarrary() 转换输入为array类型<br>"
   ]
  },
  {
   "cell_type": "markdown",
   "id": "3fcb6692",
   "metadata": {
    "ExecuteTime": {
     "end_time": "2022-07-28T13:28:59.231297Z",
     "start_time": "2022-07-28T13:28:59.224316Z"
    }
   },
   "source": [
    "### Pandas"
   ]
  },
  {
   "cell_type": "markdown",
   "id": "40c0c324",
   "metadata": {},
   "source": [
    "<img src=\"../images/dataframe.jpg\" width=\"60%\" align=\"left\"><br>"
   ]
  },
  {
   "cell_type": "markdown",
   "id": "8eaa1cf6",
   "metadata": {},
   "source": [
    "DataFrame.head() 返回表格数据的前几行便于查看数据(默认五行)<br>\n",
    "DataFrame.shape 返回表格数据的行列数目<br>\n",
    "DataFrame.columns 返回表格数据的列标识数组<br>\n",
    "DataFrame.dtypes 返回所有列标识及类型的列表<br>\n",
    "DataFrame.fillna(method='ffill/bfill'，axis=0/1) 将最近一次有效数据沿列/沿行向前/向后填充<br>\n",
    "DataFrame.iloc\\[...,...\\] 按序号对表格数据做切片处理<br>\n",
    "DataFrame.loc\\['...','...'\\] 按标签对表格数据做切片操作<br>\n",
    "DataFrame.isnull() 返回一个布尔类型表格数据<br>\n",
    "DataFrame.sum()默认轴为0逐行加和即整列加和<br>\n",
    "Dataframe.describe() 返回描述性的统计数据 Series or DataFrame<br>\n",
    "Dataframe.value_count() 返回包含唯一行计数的 Series<br><br>\n",
    "\n",
    "pd.read_csv() 读取.csv文件为dataframe<br>\n",
    "pd.to_datatime(values,format='...') 把values按照format处理成Timestamp类<br> \n",
    "pd.get_dummies(dummy_na=True) 对非数字类型(可设置包含NaN)进行独热编码<br>"
   ]
  }
 ],
 "metadata": {
  "kernelspec": {
   "display_name": "Python 3.9.12 ('D2L')",
   "language": "python",
   "name": "python3"
  },
  "language_info": {
   "codemirror_mode": {
    "name": "ipython",
    "version": 3
   },
   "file_extension": ".py",
   "mimetype": "text/x-python",
   "name": "python",
   "nbconvert_exporter": "python",
   "pygments_lexer": "ipython3",
   "version": "3.9.12"
  },
  "toc": {
   "base_numbering": 1,
   "nav_menu": {},
   "number_sections": false,
   "sideBar": false,
   "skip_h1_title": false,
   "title_cell": "Table of Contents",
   "title_sidebar": "Contents",
   "toc_cell": false,
   "toc_position": {},
   "toc_section_display": true,
   "toc_window_display": false
  },
  "vscode": {
   "interpreter": {
    "hash": "3d851a414fdd845bfa8f48e7264b4dfc9dcd5160173adfe6311d45ffdb836796"
   }
  }
 },
 "nbformat": 4,
 "nbformat_minor": 5
}
