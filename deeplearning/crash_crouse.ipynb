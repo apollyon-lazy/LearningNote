{
 "cells": [
  {
   "cell_type": "markdown",
   "id": "98df6be2",
   "metadata": {},
   "source": [
    "Crash Crouse Computer Science Github 资源网站  \n",
    "https://github.com/1c7/Crash-Course-Computer-Science-Chinese"
   ]
  },
  {
   "cell_type": "markdown",
   "id": "121c070a",
   "metadata": {},
   "source": [
    "| Concept | Translation |\n",
    "| :--- | :--- |\n",
    "| relay  | 继电器 |\n",
    "| vacuum tube | 真空管 |\n",
    "| transistor | 晶体管 |"
   ]
  },
  {
   "cell_type": "markdown",
   "id": "fcb50aac",
   "metadata": {},
   "source": [
    "| Concept | Translation |\n",
    "| :--- | :--- |\n",
    "| binary | 二进制 |\n",
    "| Boolean algebro| 布尔代数 |\n",
    "| NOT/AND/OR | 非/与/或 |\n",
    "| XOR | 异或 |\n",
    "| bit/byte | 位/字节 |"
   ]
  },
  {
   "cell_type": "markdown",
   "id": "236b708c",
   "metadata": {},
   "source": [
    "| Concept | Translation |\n",
    "| :--- | :--- |\n",
    "| integer |整数|\n",
    "| floating point numbers| 浮点数(IEEE754) | \n",
    "| ASCII | 美国信息交换标准代码 |\n",
    "| Unicode | 统一码 |"
   ]
  },
  {
   "cell_type": "markdown",
   "id": "f4904168",
   "metadata": {
    "ExecuteTime": {
     "end_time": "2022-07-25T04:04:19.896401Z",
     "start_time": "2022-07-25T04:04:19.889420Z"
    }
   },
   "source": [
    "|Concept | Translation |\n",
    "| :--- | :--- |\n",
    "| half adder | 半加器 |\n",
    "| full adder | 全加器 |\n",
    "| 8-bit ripple carry adder | 8位行波进位加法器 |\n",
    "| overflow | 溢出 |\n",
    "| carry-load-ahead adder | 超前进位加法器 |\n",
    "| Arithmetic & Logic Unit | 算术逻辑单元(ALU) |\n",
    "\n",
    "- 目前计算机中使用的加法器是超前进位加法器 \n",
    "- **ALU** 计算逻辑单元，计算机中负责运算的组件，处理数字/逻辑运算的最基本单元"
   ]
  },
  {
   "cell_type": "markdown",
   "id": "6f278d37",
   "metadata": {},
   "source": [
    "|Concept | Translation |\n",
    "| :--- | :--- |\n",
    "| AND-OR latch | 与-或 锁存器 |\n",
    "| gated latch | 门锁 |\n",
    "| 8-bit register | 8位寄存器 |\n",
    "| multiplexer | 多路复用器\n",
    "| 16 x 16 latch matrix | 16x16门锁矩阵 |\n",
    "| Random Access Memory | 随机存取存储器(RAM) |\n",
    "| Central Processing Unit | 中央处理单元(CPU) |\n",
    "\n",
    "- 锁存器的作用是存储一位数字 \n",
    "- 门锁的作用是用一根线控制数据的输入\n",
    "- 寄存器的作用是并排使用门锁，储存多位数字\n",
    "- **RAM** 随机存取存储器，由一系列矩阵以及电路组成的器件，可根据地址来写入、读取数据。"
   ]
  },
  {
   "cell_type": "markdown",
   "id": "be906321",
   "metadata": {},
   "source": [
    "| Concept | Translation |\n",
    "| :--- | :--- |\n",
    "| instruction | 指令 |\n",
    "| opcode+register/address in memory | 操作码+寄存器/内存地址 |\n",
    "| instruction register | 指令寄存器 |\n",
    "| instruction address register | 指令地址寄存器 |\n",
    "| fetch/decode/execute | 读指令/解码/执行 |\n",
    "| clock | 时钟 |\n",
    "| clock speed | 时钟速度 |\n",
    "| overlocking/underclocking | 超频/降频 |\n",
    "\n",
    "- **CPU** 中央处理单元，负责执行程序。通常由寄存器/控制单元/ALU/时钟组成。与 RAM 配合，执行计算机程序。CPU 和 RAM 之间用“地址线”、“数据线”和“允许读/写线”进行通信。"
   ]
  },
  {
   "cell_type": "markdown",
   "id": "196693ba",
   "metadata": {},
   "source": [
    "|Concept | Translation |\n",
    "| :--- | :--- |\n",
    "| complexity-for-speed tradeoff | 复杂度速度权衡 |\n",
    "| bus | 总线 |\n",
    "| cathe | 缓存 |\n",
    "| cathe hit/cathe miss | 缓存命中 缓存未命中 |\n",
    "| dirty bit | 脏位 |\n",
    "| instruction pipelining | 指令流水线 |\n",
    "| out-of-order execution | 乱序执行 |\n",
    "| speculation execution | 推测执行 |\n",
    "| pipelined superscalar CPU | 流水线超量CPU |\n",
    "| multi-core processors | 多核处理器 |\n",
    "| multiple independent CPUs | 多独立CPU |\n",
    "| Von Neumann Architecture | 冯诺依曼结构 |\n",
    "\n",
    "- **缓存** 为了不让 CPU 空等数据（从 RAM 到 CPU 的数据传输有延迟），在 CPU 内部设置了一小块内存，称为缓存**\n",
    "- **缓存命中** 想要的数据已经在缓存里 **缓存未命中** 想要的数据不在缓存里\n",
    "- **脏位** 于检测缓存内的数据是否与 RAM 一致\n",
    "- 高端CPU使用乱序执行解决**数据依赖性**问题，使用推测执行解决**跳转程序**的问题\n",
    "- **冯诺依曼计算机**的标志是，一个处理器(有算术逻辑单元)+数据寄存器+指令寄存器+指令地址寄存器+内存"
   ]
  },
  {
   "cell_type": "markdown",
   "id": "24f36def",
   "metadata": {},
   "source": [
    "|Concept | Translation |\n",
    "| :--- | :--- |\n",
    "| pseudo-code | 伪代码 |\n",
    "| assembler | 汇编器 |\n",
    "| compiler | 编译器 |\n",
    "| syntax | 语法 |\n",
    "| assignments/ifs/loops | 赋值 条件 循环 |\n",
    "| function | 函数 |\n",
    "| library | 库 |"
   ]
  },
  {
   "cell_type": "markdown",
   "id": "8a9f7a8a",
   "metadata": {},
   "source": [
    "|Concept | Translation |\n",
    "| :--- | :--- |\n",
    "| algorithm | 算法 |\n",
    "| sorting | 排序 |\n",
    "| selection sort | 选择排序 O(n) |\n",
    "| merge sort | 归并排序 O(n\\*logn) |\n",
    "| graph search | 图搜索 |\n",
    "| dijkstra algorithm | 迪杰斯特拉算法 O(n^2)->O(n\\*logn+1) |"
   ]
  },
  {
   "cell_type": "markdown",
   "id": "103d9f69",
   "metadata": {},
   "source": [
    "| Concept | Translation |\n",
    "| :--- | :--- |\n",
    "| data structure | 数据结构 |\n",
    "| array/list/vector | 数组 列表 矢量 |\n",
    "| pointer/struct/node/linked list | 指针 结构体 节点 链表 |\n",
    "| queue/stack | 队列 栈 |\n",
    "| FIFO/LIFO | 先进先出 后进先出 |\n",
    "| enqueue/dequeue | 入队 出队 |\n",
    "| push/pop | 入栈 出栈 |\n",
    "| tree/root/leaves/parent/children | 树 根节点 叶节点 父节点 子节点 |\n",
    "| binary tree/graph | 二叉树 图 |"
   ]
  },
  {
   "cell_type": "markdown",
   "id": "e6e86e4e",
   "metadata": {},
   "source": [
    "|Concept | Translation |\n",
    "| :--- | :--- |\n",
    "| Turing machine | 图灵机 |\n",
    "| the halting problem | 终止问题 |\n",
    "| Turing test | 图灵测试 |\n",
    "| captcha | 验证码 |\n",
    "\n",
    "- **图灵机** 只要有足够的规则，状态和纸带，图灵机可以解决一切计算问题。和图灵机一样完备，叫做图灵完备。\n",
    "- **终止问题** 判断任意一个 程序 是否能在有限的时间之内结束运行的问题。证明图灵机不能解决所有问题。\n",
    "- **图灵测试** 向人和机器同时发信息，收到的回答无法判断哪个是人，哪个是计算机，则计算机达到了智能程度。"
   ]
  },
  {
   "cell_type": "markdown",
   "id": "64baeb26",
   "metadata": {},
   "source": [
    "|Concept | Translation |\n",
    "| :--- | :--- |\n",
    "| software engineering | 软件工程 |\n",
    "| Object Oriented Programming | 面向对象编程(OOP) |\n",
    "| Application Programming Interface | 程序编程接口(API) |\n",
    "| Integrated Development Enviroment | 集成开发环境(IDE) |\n",
    "| coding/debug | 编码 调试 |\n",
    "| document(readme)/comment | 文档 注释 |\n",
    "| source control/version control | 源代码管理 版本控制(svn. git.) |\n",
    "| Quality Assurance testing | 质量保证测试(QA) |\n",
    "| alpha version/beta version | 内部版本 外部版本 |"
   ]
  },
  {
   "cell_type": "markdown",
   "id": "bda37fb5",
   "metadata": {},
   "source": [
    "|Concept | Translation |\n",
    "| :--- | :--- |\n",
    "| Intergrated Circuits | 集成电路(IC) |\n",
    "| printed circuit boards | 印制电路板(PCB) |\n",
    "| photolithography | 光刻 |\n",
    "| Moore's law | 摩尔定律(光的波长 量子隧穿效应) |\n",
    "| very-large-scale integration| 超大规模集成软件(VLSI) |"
   ]
  },
  {
   "cell_type": "markdown",
   "id": "d5bfdadd",
   "metadata": {},
   "source": [
    "|Concept | Translation |\n",
    "| :--- | :--- |\n",
    "| operation system | 操作系统(OS)|\n",
    "| peripheral | 外设 |\n",
    "| device driver | 设备驱动 |\n",
    "| multitasking/virtual/protested memory | 多任务处理 虚拟内存 内存保护 |\n",
    "| kernal | 内核 |\n",
    "\n",
    "- **操作系统** 是电脑运行的第一个软件，是软件和硬件之间的媒介 \n",
    "- UNIX 把操作系统分成两个部分，一个是操作系统的核心部分，如内存管理，多任务和输入/输出处理，这叫做**内核**，第二部分是一堆有用的工具，比如程序和运行库。"
   ]
  },
  {
   "cell_type": "markdown",
   "id": "35aa04ea",
   "metadata": {},
   "source": [
    "|Concept | Translation |\n",
    "| :--- | :--- |\n",
    "| solid state drive/disk | 固态硬盘 |\n",
    "| hard disk drive | 机械硬盘 |\n",
    "\n",
    "| Abbr. | Capacity | Price | Velocity | Principle | Noise/Vibration/Recovery |\n",
    "| :--- | :--- | :--- | :--- | :--- | :--- |\n",
    "| SSD | small | high | fast | IC | small good hard | \n",
    "| HHD | big | low | slow | electromagnetism | big bad easy | \n"
   ]
  },
  {
   "cell_type": "markdown",
   "id": "f6bd1123",
   "metadata": {},
   "source": [
    "| Concept | Translation |\n",
    "| :--- | :--- |\n",
    "| file format | 文件格式 |\n",
    "| metadata/header | 元数据 文件头|\n",
    "| flat file system | 平面文件系统 |\n",
    "| directory file | 目录文件 |\n",
    "| created/deleted/modified | 增 删 改 |\n",
    "| fragmentation | 碎片 |\n",
    "| hierarchical file system | 分层文件系统 |\n",
    "| root directory | 根目录 |\n",
    "\n",
    "- **目录文件** 泛指储存文件信息的文件\n",
    "- **根目录** 是相对子目录而言的最顶层目录文件，例如安装软件选择的目录是软件运行根目录\n",
    "- 增删改会引起文件的碎片化，移动仅改变目录文件的记录，因此存在恢复数据的可能"
   ]
  },
  {
   "cell_type": "markdown",
   "id": "51e70a5d",
   "metadata": {},
   "source": [
    "|Concept | Translation |\n",
    "| :--- | :--- |\n",
    "| compression | 压缩 |\n",
    "| Run-length encoding | 游程编码 |\n",
    "| dictionary coders | 字典编码 |\n",
    "| lossless compression | 无损压缩 |\n",
    "| perceptual coding | 感知编码 |\n",
    "| lossy compression | 有损压缩 |"
   ]
  },
  {
   "cell_type": "markdown",
   "id": "b7704884",
   "metadata": {},
   "source": [
    "|Concept | Translation |\n",
    "| :--- | :--- |\n",
    "| QWERTY | 键盘布局 |\n",
    "| commond line interface | 命令行界面 |\n",
    "| terminal | 终端 |"
   ]
  },
  {
   "cell_type": "markdown",
   "id": "8ef7ff11",
   "metadata": {},
   "source": [
    "|Concept | Translation |\n",
    "| :--- | :--- |\n",
    "| cathhode ray tube | 阴极射线管(CRT) |\n",
    "| vector scaning | 矢量扫描 |\n",
    "| raster scaning | 光栅扫描 |\n",
    "| liquid crystal displays | 液晶显示屏(LCD) |\n",
    "| pixel | 像素 |\n",
    "| chracter generator | 字符生成器 |\n",
    "| screen buffer | 屏幕缓冲区 |\n",
    "\n",
    "- **字符生成器** 相比于像素，为了减少内存，人们更喜欢使用字符，计算机需要额外硬件，来从内存读取字符，转换成光栅图形 这样才能显示到屏幕上个硬件叫 \"字符生成器\"，基本算是第一代显卡。它内部有一小块只读存储器，简称 ROM，存着每个字符的图形，叫\"点阵图案\"\n",
    "- **屏幕缓冲区** 为了显示，\"字符生成器\" 会访问内存中一块特殊区域 这块区域专为图形保留，叫 屏幕缓冲区，程序想显示文字时，修改这块区域里的值就行。"
   ]
  },
  {
   "cell_type": "markdown",
   "id": "ab7f082b",
   "metadata": {},
   "source": [
    "|Concept | Translation |\n",
    "| :--- | :--- |\n",
    "| graphical user interface | 图形用户界面(GUI) |\n",
    "| mouse | 鼠标 |\n",
    "| desktop metaphor | 桌面隐喻 |\n",
    "| windows icons menus pointer | WIMP界面 |\n",
    "| button checkboxes sliders tabs | 按钮 打勾框 滑动条 标签页 |\n",
    "| event-driven programming | 事件驱动编程 |\n",
    "| cut copy paste | 剪切 复制 粘贴 |\n",
    "| start/menu taskbar/Windows explorer file manager | 开始菜单 任务栏 文件管理器 |"
   ]
  },
  {
   "cell_type": "markdown",
   "id": "61d697b7",
   "metadata": {},
   "source": [
    "|Concept | Translation |\n",
    "| :--- | :--- |\n",
    "| wireframe rendering | 线框渲染 |\n",
    "| orthographic projection | 正交投影 |\n",
    "| perspective projection | 透视投影 |\n",
    "| polygons | 三角形(3D图形学) |\n",
    "| mesh | 网格 |\n",
    "| scanline rendering | 扫描线渲染 |\n",
    "| antialiasing | 抗锯齿 |\n",
    "| painter's algorithm | 画家算法 |\n",
    "| Z-buffering | 深度缓冲算法 |\n",
    "| Z-fighting | 闪烁效应 |\n",
    "| back-face culling | 背面剔除 |\n",
    "| flat shading | 平面着色 |\n",
    "| Gouraud shading/Phong shading | 高洛德着色 冯氏着色 |\n",
    "| textures | 纹理 |\n",
    "| graphics processing unit | 图形处理单元(GPU) |\n",
    "\n",
    "- **Z Fighting** 采用深度缓冲算法，哪个图形在前将会变化\n",
    "- **back-face culling** 由于游戏角色的头部或地面，只能看到朝外的一面，所以为了节省处理时间，会忽略多边形背面，这很好,但有个bug是，如果进入模型内部往外看，头部和地面会消失"
   ]
  },
  {
   "cell_type": "markdown",
   "id": "89be9951",
   "metadata": {},
   "source": [
    "|Concept | Translation |\n",
    "| :--- | :--- |\n",
    "| sneakernet | 人力传递网络 |\n",
    "| Local Area Networks | 局域网(LAN) |\n",
    "| Ethernet | 以太网 |\n",
    "| Media Access Control address | 媒体访问控制地址(MAC address) |\n",
    "| Carrier Sense Multiple Access | 载波侦听多路访问(CSMA) |\n",
    "| Exponential Backoff | 指数退避 |\n",
    "| Collision Domain | 冲突域 |\n",
    "| Network Switch | 网络交换机 |\n",
    "| routing | 路由 |\n",
    "| Circuit Switching | 电路交换 |\n",
    "| Message Switching | 报文交换 |\n",
    "| hop count | 跳数 |\n",
    "| Hop Limit | 跳数限制 |\n",
    "| Internet Protocol | 互联网协议（IP） |\n",
    "| packets | 数据包 |\n",
    "| Network routers | 路由器 |\n",
    "| congestion control | 阻塞控制 |\n",
    "| Packet Switching | 分组交换 |\n",
    "| internet of things | 物联网 |\n",
    "\n",
    "- **局域网（LAN）** 是计算机近距离构成的小型网络。以太网是经典的局域网\n",
    "- **媒体访问控制地址（MAC）** 用于确认局域网和WiFi传输的对象\n",
    "- **载波侦听多路访问（CMSA）** 是指多台电脑共享一个传输媒介。共享媒介又称载体（carrier），如WiFi的载体是空气，以太网的载体是电线。载体传输数据的速度叫带宽（bandwidth），\n",
    "- **冲突域** 是指载体和其中的设备总称为，为了避免冲突，可以用交换器\n",
    "- **报文交换** 报文的具体格式简称**IP**，每一个电脑都会有一个IP地址。当报文比较大的时候，会堵塞线路。解决方法是 将大报文分成很多小块，叫**数据包**，来进行运输，这叫**分组交换**。路由器会平衡与其他路由器之间的负载  以确保传输可以快速可靠，这叫**阻塞控制**"
   ]
  },
  {
   "cell_type": "markdown",
   "id": "fe5f8736",
   "metadata": {},
   "source": [
    "|Concept | Translation |\n",
    "| :--- | :--- |\n",
    "| Wide Area Network | 广域网(WAN) |\n",
    "| Internet Service Provider | 互联网服务提供商(ISP) |\n",
    "| backbone of the internet | 互联网主干 |\n",
    "| User Datagram Protocol | 用户数据报协议(UDP) |\n",
    "| port number | 端口号 |\n",
    "| checksum | 校验和 |\n",
    "| Transmission Control Protocol | 传输控制协议(TCP) TCP/IP |\n",
    "| sequential numbers | 序列号 |\n",
    "| acknowledgement | 确认码 |\n",
    "| Domain Name System | 域名系统（DNS） |\n",
    "| Message Switching | 报文交换 |\n",
    "| Top Level Domains | 顶级域名（TLD）.com .gov |\n",
    "| second level domains | 二级域名 google.com  |\n",
    "| subdomains | 子域名 images.google.com |\n",
    "| Physical Layer | \"物理层\" |\n",
    "| Data link layer | \"数据链路层\" |\n",
    "| Network Layer | \"网络层\" |\n",
    "| Transport layer | \"传输层\" |\n",
    "| Session Layer | \"会话层\" |\n",
    "| Presentation Layer | \"表示层\" |\n",
    "| Application Layer | \"应用程序层\" |\n",
    "| the Open System Interconnection | 开放式系统互联通信参考模型（OSI） |\n",
    "\n",
    "- **传输控制协议 TCP**\n",
    "    - 控制发送的文件按顺序到达\n",
    "    - 要求接收方确认无误后发送确认码（ACK），确认码的成功率和来回时间可以用来推测网络的拥堵程度，TCP可以根据这个调整传输率。由于这个特点，TCP对时间要求高的程序不适用。\n",
    "- **开放式系统互联通信参考模型（OSI）**\n",
    "    - **物理层** 线路里的电信号，以及无线网络里的无线信号\n",
    "    - **数据链路层** MAC,碰撞检测，指数退避和其他底层协议\n",
    "    - **网咯层** 各种报文转换和路由\n",
    "    - **传输层** UDP,TCP等协议\n",
    "    - **会话层** 用UDP,TCP创造连接，传递信息，然后关闭连接"
   ]
  },
  {
   "cell_type": "markdown",
   "id": "66d21301",
   "metadata": {},
   "source": [
    "|Concept | Translation |\n",
    "| :--- | :--- |\n",
    "| World Wide Web | 万维网(WWW) |\n",
    "| hypertext | 超文本 |\n",
    "| hyperlinks | 超链接 |\n",
    "| web browsers | 网页浏览器 |\n",
    "| Uniform Resource Locator | 统一资源定位器（URL） |\n",
    "| DNS lookup | DNS查找 |\n",
    "| web server | 网页服务器 |\n",
    "| Hypertext Transfer Protocol | 超文本传输协议（HTTP） |\n",
    "| GET request | GET请求 |\n",
    "| status codes | 状态码 200. 404. |\n",
    "| Hypertext Markup Language | 超文本标记语言（HTML) |\n",
    "| Cascading Style Sheets| 层叠样式表(CSS) |\n",
    "| search engines | 搜索引擎|\n",
    "| web crawler | 爬虫  |\n",
    "| ever enlarging index | 搜索算法 |\n",
    "| backlinks | 反向链接 |\n",
    "| Net Neutrality | 网络中立性 |\n",
    "| Throttled | 节流 |\n",
    "\n",
    "- 当访问一个网站时，计算机会先做DNS查找。\n",
    "- 查找到IP后，用TCP连接到这个IP，网页服务器的标准端口是80。\n",
    "- 连接到服务器后，发送HTTP标准中的GET指令，以获取HTML(CSS,JavaScript)书写的网页源码，并返回状态码(200：成功获取；400-499：客户端出错)\n",
    "- 最后网页浏览器会把源码渲染成页面，页面是万维网的最基本单位。"
   ]
  },
  {
   "cell_type": "markdown",
   "id": "a8d6c77a",
   "metadata": {},
   "source": [
    "|Concept | Translation |\n",
    "| :--- | :--- |\n",
    "| secrecy integrity availability | 保密性 完整性 可用性 |\n",
    "| threat model | 威胁模型分析 |\n",
    "| authentication | 身份认证 |\n",
    "| Access Control | 访问控制 |\n",
    "| Permissions/Access Control Lists  | 权限/访问控制列表 |\n",
    "| Read write execute | 读、写、执行(权限) |\n",
    "| Bell-LaPadula model |Bell-LaPadula 模型(访问控制模型)<br>\"不能向上读，不能向下写\"  |\n",
    "| Chinese Wall model/Biba model | 中国墙模型/比伯模型 |\n",
    "| security kernel/trusted computing base | 安全内核/可信计算基础<br>一组尽可能少的操作系统软件 |\n",
    "| Independent Verification and Validation | 独立安全检查和质量验证 |\n",
    "| isolation | 隔离|\n",
    "| \"sandbox\" applications | 沙盒程序  |\n",
    "| Virtual Machines | 虚拟机 |"
   ]
  },
  {
   "cell_type": "markdown",
   "id": "699eaf71",
   "metadata": {},
   "source": [
    "|Concept | Translation |\n",
    "| :--- | :--- |\n",
    "| White Hats/Black Hats | 白客/黑客 |\n",
    "| Phishing | 钓鱼 |\n",
    "| Pretexting | 假托 |\n",
    "| Trojan Horses/malware | 木马/恶意软件 |\n",
    "| ransomware | 勒索软件 |\n",
    "| Exploit  | 漏洞利用 |\n",
    "| Buffer Overflow | 缓冲区溢出  |\n",
    "| Bounds Checking/canaries | 边界检查/金丝雀<br>（应对缓冲溢出） |\n",
    "| Code Injection | 代码注入 |\n",
    "| Zero Day Vulnerability | 零日漏洞<br>软件制造者不知道有新漏洞被发现|\n",
    "| Worms | 计算机蠕虫 |\n",
    "| Botnet | 僵尸网络 |\n",
    "| Distributed Denial of Service | 拒绝服务攻击(DDoS)|"
   ]
  },
  {
   "cell_type": "markdown",
   "id": "534603e6",
   "metadata": {},
   "source": [
    "| Concept | Translation |\n",
    "| :--- | :--- |\n",
    "| Cryptography | 密码学 |\n",
    "| encryption decryption | 加密 解密 |\n",
    "| cipher | 加密算法 |\n",
    "| dubstitution cipher | 替换加密 |\n",
    "| permutation cipher | 移位加密 |\n",
    "| symmetric encryption | 对称加密<br>双方用一样的密钥加密和解密信息 |\n",
    "| key exchange | 密钥交换<br>只有具备双方私钥和公钥一起才能解密 |\n",
    "| asymmetric encryption | 非对称加密<br>两个密钥，一个公开一个私有，一个加密一个解密 |"
   ]
  },
  {
   "cell_type": "markdown",
   "id": "316e9746",
   "metadata": {},
   "source": [
    "| Concept | Translation |\n",
    "| :--- | :--- |\n",
    "| machine learning | 机器学习 |\n",
    "| classification | 分类 |\n",
    "| classifier | 分类器 |\n",
    "| feature | 特征 |\n",
    "| laber | 标签 |\n",
    "| decision boundaries | 决策边界 |\n",
    "| confusion matrix | 混淆矩阵 |\n",
    "| decision tree | 决策树 |\n",
    "| support vector machines | 支持向量机 |\n",
    "| artifical neural networks | 人工神经网络  |\n",
    "| deep learning | 深度学习 |\n",
    "| reinforcement learning | 强化学习 |\n",
    "| weak AI/Narrow AI | 弱AI/窄AI |\n",
    "| strong AI | 强AI |"
   ]
  },
  {
   "cell_type": "markdown",
   "id": "1eef2c03",
   "metadata": {},
   "source": [
    "| Concept | Translation |\n",
    "| :--- | :--- |\n",
    "| computer vision | 计算机视觉 |\n",
    "| kernel/filter | 核/过滤器 |\n",
    "| Prewitt operators | Prewitt算子(水平垂直边沿检测) |\n",
    "| convolutional neural networks | 卷积神经网络 |\n",
    "| emotion recognition algorithms | 情感识别算法 |"
   ]
  },
  {
   "cell_type": "markdown",
   "id": "6258156f",
   "metadata": {},
   "source": [
    "| Concept | Translation |\n",
    "| :--- | :--- |\n",
    "| Speech recognition | 语音识别 |\n",
    "| Fast Fourier Transform | 快速傅立叶变换 |\n",
    "| Phonemes | 音素(构成单词的声音片段) |\n",
    "| Speech Synthesis | 语音合成 |\n",
    "\n",
    "- 通过词性(Parts of speech)和短语结构规则(Phrase structure rules)构建分析树(Parse tree)，并结合语言模型(Language Model)来实现语音识别(Speech recognition)"
   ]
  },
  {
   "cell_type": "markdown",
   "id": "b78d42a1",
   "metadata": {},
   "source": [
    "| Concept | Translation |\n",
    "| :--- | :--- |\n",
    "| Computer Numerical Control | 数控机器(CNC) |\n",
    "| negative feedback loop | 负反馈回路 |\n",
    "| Proportional–Integral–Derivative controller | PID 控制器 |\n",
    "| Three Laws of Robotics | 机器人三定律 |"
   ]
  },
  {
   "cell_type": "markdown",
   "id": "87430757",
   "metadata": {},
   "source": [
    "| Concept | Translation |\n",
    "| :--- | :--- |\n",
    "| Usability | 易用度 |\n",
    "| affordances | 直观功能<br>平板用来推，按钮用来按 |\n",
    "| recognition vs recall | 认知和回想<br>填空题比选择题难 |\n",
    "| computer-mediated communication | 以计算机为媒介沟通(CMC) |\n",
    "| augmented gaze | 增强凝视<br>软件修正注视位 |\n",
    "| uncanny valley | 恐怖谷 |\n",
    "| Human-Robot Interaction | 人机交互（HRI） |"
   ]
  }
 ],
 "metadata": {
  "kernelspec": {
   "display_name": "D2L",
   "language": "python",
   "name": "d2l"
  },
  "language_info": {
   "codemirror_mode": {
    "name": "ipython",
    "version": 3
   },
   "file_extension": ".py",
   "mimetype": "text/x-python",
   "name": "python",
   "nbconvert_exporter": "python",
   "pygments_lexer": "ipython3",
   "version": "3.9.12"
  },
  "toc": {
   "base_numbering": 1,
   "nav_menu": {
    "height": "57px",
    "width": "160px"
   },
   "number_sections": false,
   "sideBar": false,
   "skip_h1_title": false,
   "title_cell": "Table of Contents",
   "title_sidebar": "Contents",
   "toc_cell": false,
   "toc_position": {},
   "toc_section_display": true,
   "toc_window_display": false
  }
 },
 "nbformat": 4,
 "nbformat_minor": 5
}
