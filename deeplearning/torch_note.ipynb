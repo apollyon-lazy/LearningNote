{
 "cells": [
  {
   "cell_type": "markdown",
   "id": "b1d49b6e",
   "metadata": {},
   "source": [
    "### torch框架中的一些基本用法"
   ]
  },
  {
   "cell_type": "markdown",
   "id": "d2717646",
   "metadata": {},
   "source": [
    "- **定义模型** 继承nn.Module类，构造自定义块，自定义顺序层\n",
    "- **定义数据集** 集成继承data.dataset类，构造自定义数据集"
   ]
  },
  {
   "cell_type": "markdown",
   "id": "25ec2876",
   "metadata": {},
   "source": [
    "#### 1、张量函数"
   ]
  },
  {
   "cell_type": "markdown",
   "id": "77434901",
   "metadata": {},
   "source": [
    "| Function | Description | Return |\n",
    "| :--- | :--- | :--- |\n",
    "| Tensor.shape() |  访问张量沿每个轴的形状 |\n",
    "| Tensor.size()\\/numel() |  访问张量所有元素个数 |\n",
    "| Tensor.reshape() | 重塑张量的形状 |\n",
    "| Tensor.detach() | 分离参数为常数 |\n",
    "| Tensor.clone(A) | 通过分配新内存将A的副本给B |\n",
    "| Tensor.to(dtype, device) | 执行类型和设备转换 |\n",
    "| Tensor.argmax(dim) | 返回张量a元素最大值下标 | tensor |"
   ]
  },
  {
   "cell_type": "markdown",
   "id": "72516184",
   "metadata": {},
   "source": [
    "#### 2、张量运算"
   ]
  },
  {
   "cell_type": "markdown",
   "id": "72e22002",
   "metadata": {},
   "source": [
    "| Function | Description | Return |\n",
    "| :--- | :--- | :--- |\n",
    "| torch.tensor() | 创建一个张量 |\n",
    "| torch.zeros/ones() |生成全零/一张量 |\n",
    "| torch.randn() | 生成0-1高斯分布的随机张量 |\n",
    "| torch.arange() |生成序列张量 |\n",
    "| torch.exp() | 张量求指数 |\n",
    "| torch.log() | 张量求自然对数 |\n",
    "| torch.cut((X,Y),dim) | 张量连结<br> dim=0：以行为整体堆叠连结<br>dim=1：以列为整体拼接连结 |\n",
    "| torch.zero_like(Y) | 生成一个形状相同的全零张量 |\n",
    "| torch.numpy() | torch张量(tensor)转换为numpy张量(ndarray) |\n",
    "| torch.sum(axis) | 张量求和降维<br>axis用法同dim |\n",
    "| torch.dot(x,y) | 向量点积<br>按照元素乘积求和 |\n",
    "| torch.mv(A,x) | 矩阵和向量积<br>矩阵每个列向量与行向量做点积 |\n",
    "| torch.mm(A,B) | 矩阵乘法<br>矩阵向量积以列为整体拼接 |\n",
    "| torch.matmul(A,B) | 张量相乘，如果维度不一致会使用广播机制 |\n",
    "| torch.normal(miu,sigma,shape) | 生成正态分布的随机数 |\n",
    "| torch.argmax(a) |返回张量a元素最大值下标 | tensor |\n",
    "| torch.clamp(input,min,max) | 对数据进行上下界加窗 |\n",
    "| torch.device('cpu'/'cuda'/'cuda:1') |分别表示CPU、GPU0、GPU1 |\n",
    "| torch.save(obj,f) | 把obj保存到f 通常张量数据保存为.pt文件 |\n",
    "| torch.load(path) | 加载path保存的模型或者参数 |"
   ]
  },
  {
   "cell_type": "markdown",
   "id": "094c9c18",
   "metadata": {},
   "source": [
    "#### 3、张量初始化"
   ]
  },
  {
   "cell_type": "markdown",
   "id": "c7468924",
   "metadata": {},
   "source": [
    "| Function | Description | Return |\n",
    "| :--- | :--- | :--- |\n",
    "| nn.init.uniform_(tensor,a,b) | 用U(a,b)均匀分布填充张量 |\n",
    "| nn.init.normal_(tensor,mean,std) | 用N(mean,std^2)正态分布填充张量 |\n",
    "| nn.init.normal_(tensor,val) | 用变量val填充张量 |\n",
    "| nn.init.xavier_uniform_(tensor) | 用Xavier均匀分布初始化张量(尽可能让方差保持不变)|\n",
    "| nn.init.xavier_normal_(tensor) | 用Xavier正态分布初始化张量"
   ]
  },
  {
   "cell_type": "markdown",
   "id": "4137f52f",
   "metadata": {},
   "source": [
    "#### 4、网络层"
   ]
  },
  {
   "cell_type": "markdown",
   "id": "13a0d161",
   "metadata": {},
   "source": [
    "| Function | Syntax | Description |\n",
    "| :--- | :--- | :--- |\n",
    "| nn.Flatten() | | 展平层(默认前两维) |\n",
    "| nn.Dropout() | nn.Dropout(dropout) | 暂退层 | \n",
    "| nn.Relu() | | Relu激活层 |\n",
    "| nn.Linear() | nn.Linear(in_features,out_features,bias) |线性层 |\n",
    "| nn.Conv2d() | nn.Conv2d(input_channel.output_channel,kernel_size,stride,padding) | 卷积层  |\n",
    "| nn.MaxPool2d() | nn.MaxPool2d(kernel_size, stride padding) | 最大汇聚层<br>默认汇聚窗口与步幅大小相同 |\n",
    "| nn.AvgPool2d() | nn.AvgPool2d(kernel_size, stride padding) | 平均汇聚层<br>默认汇聚窗口与步幅大小相同 |\n",
    "| nn.Batchnorm() | nn.Batchnorm(num_features,num_dims) | 批量规范化层<br>训练和评估模式不一样，常用于深度卷积网络 |"
   ]
  },
  {
   "cell_type": "markdown",
   "id": "a317c203",
   "metadata": {},
   "source": [
    "| Function |  Description | Return |\n",
    "| :--- |  :--- | :--- |\n",
    "| nn.Module.to(device)  | 移动模型到device |\n",
    "| nn.Module.apply(fn) | 递归给每个子模型使用函数fn，常用于参数初始化 |\n",
    "| nn.Module.eval() | 设置模型为评估模式 |\n",
    "| nn.Module.train() | 设置模型为训练模式 |\n",
    "| nn.Module.state_dict() | 返回权重和偏差参数 | OrderedDict |\n",
    "| nn.Module.load_state_dict(state_dict) | 把参数加载入模型 |\n",
    "| nn.Module.modules() | 返回迭代器覆盖网络所有模型 |\n",
    "| nn.Module.requires_grad_() | 打开参数的自动梯度更新 |\n",
    "| nn.Module.parameter() | 返回迭代器覆盖所有变量，常用于传递参数给优化器 |"
   ]
  },
  {
   "cell_type": "markdown",
   "id": "859bb867",
   "metadata": {},
   "source": [
    "- P195  参数管理：参数是符合的对象，包含值、梯度和额外信息  \n",
    "nn.Module.weight/bias(.data) 访问模型权重或偏差(的数据部分)"
   ]
  },
  {
   "cell_type": "markdown",
   "id": "ab044b1b",
   "metadata": {},
   "source": [
    "#### 5、损失函数"
   ]
  },
  {
   "cell_type": "markdown",
   "id": "eb57d2e2",
   "metadata": {},
   "source": [
    "| Function | Syntax | Description | Return |\n",
    "| :--- | :--- | :--- | :--- |\n",
    "| nn.MSELoss() | nn.MSELoss(reduction) | 最小均方误差(MSE)指标默认求均值<br> reduction:sum默认平方后求均值 | class |\n",
    "| nn.CrossEntropyLoss() | | 交叉熵损失<br>函数开头已经集成了softmax回归 |"
   ]
  },
  {
   "cell_type": "markdown",
   "id": "525b3e4a",
   "metadata": {},
   "source": [
    "#### 6、优化函数"
   ]
  },
  {
   "cell_type": "markdown",
   "id": "163ff58e",
   "metadata": {},
   "source": [
    "| Function | Syntax | Description | Return |\n",
    "| :--- | :--- | :--- | :--- |\n",
    "| torch.optim.SGD() | SGD(net.parameters(),lr,weight_decay) | 随机梯度下降<br>net.parameters():传递模型参数  | \n",
    "| torch.optim.Adam() | Adam(net.parameters(),lr,weight_decay) | 和Adam算法<br>lr：学习率 weight_decay：权重衰退比例 |\n",
    "| torch.optim.zero_grad() | |清零梯度 |\n",
    "| torch.optim.step() | | 更新参数 |\n"
   ]
  },
  {
   "cell_type": "markdown",
   "id": "5431cd59",
   "metadata": {},
   "source": [
    "#### 7、数据加载"
   ]
  },
  {
   "cell_type": "markdown",
   "id": "edcd2a6a",
   "metadata": {},
   "source": [
    "| Function | Syntax | Description | Return |\n",
    "| :--- | :--- | :--- | :--- |\n",
    "| torch.utils.Dataloader() | Dataloader(data,batch_size,shuffle,num_workers) | 加载数据集 | class |\n",
    "| --- | --- | data:数据 batch_size:批量大小 shuffle:是否打乱 num_workers:进程数 |"
   ]
  }
 ],
 "metadata": {
  "kernelspec": {
   "display_name": "Python 3.9.12 ('D2L')",
   "language": "python",
   "name": "python3"
  },
  "language_info": {
   "codemirror_mode": {
    "name": "ipython",
    "version": 3
   },
   "file_extension": ".py",
   "mimetype": "text/x-python",
   "name": "python",
   "nbconvert_exporter": "python",
   "pygments_lexer": "ipython3",
   "version": "3.9.12"
  },
  "toc": {
   "base_numbering": 1,
   "nav_menu": {
    "height": "163px",
    "width": "334px"
   },
   "number_sections": false,
   "sideBar": false,
   "skip_h1_title": false,
   "title_cell": "Table of Contents",
   "title_sidebar": "Contents",
   "toc_cell": false,
   "toc_position": {},
   "toc_section_display": true,
   "toc_window_display": false
  },
  "vscode": {
   "interpreter": {
    "hash": "3d851a414fdd845bfa8f48e7264b4dfc9dcd5160173adfe6311d45ffdb836796"
   }
  }
 },
 "nbformat": 4,
 "nbformat_minor": 5
}
