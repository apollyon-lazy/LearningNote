{
 "cells": [
  {
   "cell_type": "markdown",
   "id": "3400c436",
   "metadata": {},
   "source": [
    "## 1、python中的一些语法规则"
   ]
  },
  {
   "cell_type": "markdown",
   "id": "b8cde1ac",
   "metadata": {},
   "source": [
    "### 列表 元组 字典"
   ]
  },
  {
   "cell_type": "markdown",
   "id": "3c267485",
   "metadata": {},
   "source": [
    "\n",
    "Python中用方括号\\[ \\]来表示列表，并用逗号,来分隔其中的元素<br> \n",
    "数据类型为 **list** **有序可变序列**<br> \n",
    "listname = \\[element1 , element2 , element3 , ... , elementn\\]<br><br>\n",
    "\n",
    "Python中通常是用小括号( )来表示元组(非必须) 只要将各元素用逗号,隔开就会视为元组<br>\n",
    "数据类型为 **tuple** **有序不可变序列**<br>\n",
    "tuplename = (element1, element2, ..., elementn)<br><br>\n",
    "\n",
    "Python中键(key)和值(value)用冒号:隔开 相邻元素用逗号,隔开 所有元素放在大括号{ }中<br>\n",
    "数据类型为 **dict** **无序可变序列** <br>\n",
    "dict.item() 返回可遍历的(键, 值)元组列表<br>\n",
    "dictname = {'key'(键):'value1'(值), 'key2':'value2', ..., 'keyn':valuen}<br><br>\n",
    "\n",
    "**列表添加元素**<br>\n",
    "listname.append(obj) 在列表的末尾追加obj一个单元素<br>\n",
    "listname.extend(obj) 在列表的末尾追加obj中所有元素<br>\n",
    "listname.insert(index , obj) 在列表的中间插入单元素<br><br>\n",
    "\n"
   ]
  },
  {
   "cell_type": "markdown",
   "id": "6cecff72",
   "metadata": {},
   "source": [
    "### 内置函数"
   ]
  },
  {
   "cell_type": "markdown",
   "id": "2a98c3e5",
   "metadata": {},
   "source": [
    "| Function | Syntax | Description | Return |\n",
    "| :---  | :--- | :--- | ---: |\n",
    "| enumerate() | for i,(X,y) in enumerate(data)| 将可遍历数据合成索引序列 | enumerate object |\n",
    "| print() | | 用于打印输出 |\n",
    "| isinstance() | isinstance(object, classinfo) | 判断一个对象是否属于已知类型|\n",
    "| iter() | | 产生迭代器| list_iterator Object |\n",
    "| next() | | 返回迭代器的下一个项目 | \n",
    "| range()| range(start=0, stop, step=1) |生成序列 |\n",
    "| set()  | |创建一个无序不重复的元素集 |\n",
    "| sorted()| sorted(iterable, reverse=False) | 对所有可迭代的对象进行排序操作|\n",
    "| type() | | 返回对象的类型|\n",
    "| zip()  | | 打包对应元素为元组列表 | list |\n",
    "\n",
    "- type()不会认为子类是一种父类类型，不考虑继承关系\n",
    "- list_iterator Object最后一个元素是StopIteration \n",
    "- isinstance()会认为子类是一种父类类型，考虑继承关系"
   ]
  },
  {
   "cell_type": "markdown",
   "id": "9a02144d",
   "metadata": {},
   "source": [
    "### 导入"
   ]
  },
  {
   "cell_type": "markdown",
   "id": "63181fdf",
   "metadata": {},
   "source": [
    "from 模块名 import 成员名 as 别名<br> \n",
    "从模块中导入成员名起个别名<br> "
   ]
  },
  {
   "cell_type": "markdown",
   "id": "d4ff7a9e",
   "metadata": {},
   "source": [
    "### 函数"
   ]
  },
  {
   "cell_type": "markdown",
   "id": "2ff6ee93",
   "metadata": {},
   "source": [
    "lambda 匿名函数 常用来简写函数体只有一行的函数<br>\n",
    "name = lambda\\[list\\]:表达式<br><br>"
   ]
  },
  {
   "cell_type": "markdown",
   "id": "bd99e624",
   "metadata": {},
   "source": [
    "### 类和对象"
   ]
  },
  {
   "cell_type": "markdown",
   "id": "6a86e657",
   "metadata": {},
   "source": [
    "\\_\\_init\\_\\_(self,...) 构造函数<br>\n",
    "self 调用构造函数时无需给self赋值<br> \n",
    "super() 调用直接父类函数<br>\n",
    "class 类名(父类1，父类2...) 多继承机制<br><br>"
   ]
  },
  {
   "cell_type": "markdown",
   "id": "9282e236",
   "metadata": {},
   "source": [
    "with EXPR as VAR:  \n",
    "BLOCK  \n",
    "确保with中的语句出现问题不会占用资源"
   ]
  }
 ],
 "metadata": {
  "kernelspec": {
   "display_name": "D2L",
   "language": "python",
   "name": "d2l"
  },
  "language_info": {
   "codemirror_mode": {
    "name": "ipython",
    "version": 3
   },
   "file_extension": ".py",
   "mimetype": "text/x-python",
   "name": "python",
   "nbconvert_exporter": "python",
   "pygments_lexer": "ipython3",
   "version": "3.9.12"
  },
  "toc": {
   "base_numbering": 1,
   "nav_menu": {
    "height": "85px",
    "width": "223px"
   },
   "number_sections": false,
   "sideBar": false,
   "skip_h1_title": false,
   "title_cell": "Table of Contents",
   "title_sidebar": "Contents",
   "toc_cell": false,
   "toc_position": {
    "height": "180.364px",
    "left": "880px",
    "top": "111.136px",
    "width": "268.273px"
   },
   "toc_section_display": true,
   "toc_window_display": true
  }
 },
 "nbformat": 4,
 "nbformat_minor": 5
}
