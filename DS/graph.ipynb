{
 "cells": [
  {
   "cell_type": "markdown",
   "metadata": {},
   "source": [
    "#### 无向图的邻接表"
   ]
  },
  {
   "cell_type": "markdown",
   "metadata": {},
   "source": [
    "<img src=\"./images/Adjacencty_List_1.png\" width=\"60%\" align=\"left\">"
   ]
  },
  {
   "cell_type": "markdown",
   "metadata": {},
   "source": [
    "#### 有向图的邻接表"
   ]
  },
  {
   "cell_type": "markdown",
   "metadata": {},
   "source": [
    "<img src=\"./images/Adjacencty_List_2.png\" width=\"60%\" align=\"left\">"
   ]
  },
  {
   "cell_type": "markdown",
   "metadata": {},
   "source": [
    "#### 图的建立（邻接表）"
   ]
  },
  {
   "cell_type": "code",
   "execution_count": 2,
   "metadata": {},
   "outputs": [],
   "source": [
    "class VertexNode(object):   #顶点表节点  \n",
    "    def __init__(self,vertexname,visited=False,p=None):\n",
    "        self.vertexName =vertexname #节点名字\n",
    "        self.Visited=visited        #此节点是否被访问过\n",
    "        self.firstNode = p          #指向所连接的边表节点的指针（EdgeNode）"
   ]
  },
  {
   "cell_type": "code",
   "execution_count": 4,
   "metadata": {},
   "outputs": [],
   "source": [
    "class EdgeNode(object):     #边表节点\n",
    "    def __init__(self,index,weight,p=None):\n",
    "        self.Index =index   #尾节点在边表中对应序号\n",
    "        self.Weight=weight  #边的权值   \n",
    "        self.Next = p       #链接同一头节点的下一条边"
   ]
  },
  {
   "cell_type": "code",
   "execution_count": 2,
   "metadata": {},
   "outputs": [],
   "source": [
    "class Adgraph(object):\n",
    "    def __init__(self, vcount=0):\n",
    "        self.vertexList = []  # 用list链接边表\n",
    "        self.vertexCount = vcount # 顶点个数\n",
    "\n",
    "    def initlist(self, data):  # 初始化\n",
    "        for da in data:\n",
    "            A = VertexNode(da)\n",
    "            self.vertexList.append(A) # 初始化顶点表\n",
    "        self.vertexCount = len(data) # 初始化顶点个数 \n",
    "\n",
    "    def GetIndex(self, data):  # 获取指定名称的节点的序号\n",
    "        for i in range(self.vertexCount):\n",
    "            temp = self.vertexList[i].vertexName\n",
    "            if (temp != None) and (data == temp):\n",
    "                return i\n",
    "        return -1\n",
    "\n",
    "    def AddEdge(self, startNode, endNode, weight):  # 添加边的信息\n",
    "        i = self.GetIndex(startNode)\n",
    "        j = self.GetIndex(endNode)\n",
    "        if i == -1 or j == -1:\n",
    "            print(\"不存在该边\")\n",
    "        else:\n",
    "            weight = float(weight)\n",
    "            temp = self.vertexList[i].firstNode\n",
    "            if temp == None:  # 若边表下无顶点信息\n",
    "                self.vertexList[i].firstNode = EdgeNode(j, weight)\n",
    "            else:  # 若边表下已有顶点信息\n",
    "                while (temp.Next != None):\n",
    "                    temp = temp.Next\n",
    "                temp.Next = EdgeNode(j, weight)"
   ]
  },
  {
   "cell_type": "markdown",
   "metadata": {},
   "source": [
    "#### 图的遍历（深度优先）\n",
    "从起点顶点沿着边表出发，发现有没访问的顶点，就沿着这个顶点的边表往前走，把走过的顶点设为已访问，走不了就退回上一个访问的顶点继续走。\n",
    "#### 图的遍历（广度优先）\n",
    "图的广度优先遍历类似于二叉树的层序遍历，从根节点开始，先把这一个节点加入一个先进先出的队列，然后沿着此节点的边表访问其链接的没被访问的节点并加入队列，然后此节点退队,再取队首元素边表逐一访问，如果发现队列为空，则演算终止。"
   ]
  },
  {
   "cell_type": "code",
   "execution_count": null,
   "metadata": {},
   "outputs": [],
   "source": [
    "def DFS(self, i):  # 深度优先搜索递归\n",
    "    self.vertexList[i].Visited = True\n",
    "    result = self.vertexList[i].vertexName+'\\n'\n",
    "    p = self.vertexList[i].firstNode\n",
    "    while (p != None):\n",
    "        if self.vertexList[p.Index].Visited == True:\n",
    "            p = p.Next\n",
    "        else:\n",
    "            result += self.DFS(p.Index)\n",
    "    return result\n",
    "\n",
    "def DFStravel(self, start):  # 深度优先搜索入口\n",
    "    i = self.GetIndex(start)\n",
    "    if i != -1:\n",
    "        for j in range(self.vertexCount):\n",
    "            self.vertexList[j].Visited = False\n",
    "        DFSresult = self.DFS(i)\n",
    "    return DFSresult\n",
    "\n",
    "def BFStravel(self,start):  #广度优先搜索\n",
    "    BFSresult=''\n",
    "    i=self.GetIndex(start)\n",
    "    if i!=-1:\n",
    "        for j in range(self.vertexCount):\n",
    "            self.vertexList[j].Visited=False \n",
    "        self.vertexList[i].Visited=True\n",
    "        BFSresult+=self.vertexList[i].vertexName+'\\n'\n",
    "        GList=[i]                   #记录遍历顺序(用list代替队列)\n",
    "        while(GList!=[]):\n",
    "            j=GList.pop(0)\n",
    "            p=self.vertexList[j].firstNode\n",
    "            while p!=None:\n",
    "                k=p.Index\n",
    "                if (self.vertexList[k].Visited==False):\n",
    "                    self.vertexList[k].Visited=True\n",
    "                    BFSresult+=self.vertexList[k].vertexName+'\\n'\n",
    "                    GList.append(p.Index)\n",
    "                p=p.Next\n",
    "    return BFSresult"
   ]
  },
  {
   "cell_type": "markdown",
   "metadata": {},
   "source": [
    "#### 最小生成树(Prim算法、Kruskal算法)\n",
    "\n",
    "**Prim算法思路**：所有结点分成两个group，一个为已经选取的Select，一个为未选的Candidate。\n",
    "首先将已给的一个结点加入到Select，然后遍历头结点在Select、尾结点在Candidate的边，选取符合这个条件的边里面权重最小的边，加入到最小生成树，选出的边的尾节点加入到Select，并从Candidate删除。重复此操作直到Candidate中没有节点。需要注意的是，循环开始前要保证所有节点都有边连接，否则可能会有节点一直在Candidate中，导致死循环。\n",
    "\n",
    "**Kruskal算法思路**：先对边按权重从小到大排序，初始每个结点都是一个单独的连通分量。先选取权重最小的一条边，如果该边的两个节点处于不同的连通分量，则该边可以加入到最小生成树，并将这两个连通分量合并（节点放入一个列表），否则计算下一条边（判断新边的两个节点是否在同一列表中，若在同一列表中表明两节点在同一连通分量中），直到遍历完所有的边。"
   ]
  },
  {
   "cell_type": "code",
   "execution_count": null,
   "metadata": {},
   "outputs": [],
   "source": [
    "def GetWeight(self,begin,end):      #获取两结点之间边的权值\n",
    "    wei=10000 # 设置不存在的边的权值\n",
    "    p=self.vertexList[begin].firstNode\n",
    "    if p!=None:\n",
    "        if p.Index==end:\n",
    "            wei=p.Weight\n",
    "        else:\n",
    "            while p.Next!=None:\n",
    "                p=p.Next\n",
    "                if p.Index==end:\n",
    "                    wei=p.Weight\n",
    "    return wei\n",
    "    \n",
    "def MiniSpanTree_prim(self,vName):  #最小生成树-prim\n",
    "    i=self.GetIndex(vName) \n",
    "    if i==-1:\n",
    "        return None\n",
    "    for i in range(self.vertexCount):       #判断是否有没有边链接的节点\n",
    "        if vertexList[i].firstNode==None:\n",
    "            return None\n",
    "    wsum=0\n",
    "    Spantree=[]                     #最小生成树\n",
    "    Select=[]                       #已选择节点\n",
    "    Candidate=[]                    #未选择节点\n",
    "    for i in range(self.vertexCount):   #初始所有节点都在Candidate中\n",
    "        Candidate.append(i)\n",
    "    Select.append(i)                #将根节点移入Select\n",
    "    Candidate.remove(i)\n",
    "    \n",
    "    while len(Candidate)>0:\n",
    "        [begin,end,minweight]=[-1,-1,9999] # 不存在的边权值为10000\n",
    "        for i in Select:\n",
    "            for j in Candidate:\n",
    "                if self.GetWeight(i,j)< minweight:  \n",
    "                    minweight = self.GetWeight(i,j)\n",
    "                    begin = i\n",
    "                    end = j\n",
    "        Spantree.append([begin, end, minweight])    #找出链接两节点集权值最小的边并加入\n",
    "        wsum+=minweight\n",
    "        Select.append(end)\n",
    "        Candidate.remove(end)\n",
    "    \n",
    "    spanstr=\"最小生成树总权值：\"+str(wsum)+'\\n'     #整理输出\n",
    "    Spantree = Spantree[::-1] \n",
    "    for node in Spantree:\n",
    "        spanstr+=self.vertexList[node[1]].vertexName+\"->\"\n",
    "        spanstr+=self.vertexList[node[0]].vertexName+'\\n'\n",
    "        spanstr+=\"     weight:\"+str(node[2])+'\\n'\n",
    "    return spanstr\n",
    "\n",
    "def MiniSpanTree_kruskal(self):   #最小生成树-kruskal\n",
    "    vertexSort=[]\n",
    "    for i in range(self.vertexCount):               #整理出当前树的边集(i<j)\n",
    "        for j in range(self.vertexCount-i):\n",
    "            weight=self.GetWeight(i,i+j)\n",
    "            if weight<9999:                         #利用GetWeight函数鉴定两节点间是否有边\n",
    "                vertexSort.append([i,i+j,weight])   #生成边集数组[起点结点，终点结点，权重]\n",
    "    vertexSort.sort(key=lambda a:a[2])              #对边集中的边进行排序\n",
    "    \n",
    "    Spantree=[]\n",
    "    wsum=0\n",
    "    trees = [[i] for i in range(self.vertexCount)]  #所有树的集合\n",
    "    for edge in vertexSort:\n",
    "        tree1=edge[0]               \n",
    "        tree2=edge[1]\n",
    "        for i in range(len(trees)):\n",
    "            if tree1 in trees[i]:   #获取两节点分别所在的树\n",
    "                tree1 = i\n",
    "            if tree2 in trees[i]:\n",
    "                tree2 = i\n",
    "        if tree1 != tree2:          #若两结点不在同一棵树上，链接两棵树\n",
    "            Spantree.append(edge)\n",
    "            wsum+=edge[2]\n",
    "            trees[tree1] = trees[tree1] + trees[tree2] # 边两结点合并到一个列表中，即放在一棵树上\n",
    "            trees[tree2] = [] \n",
    "    \n",
    "    spanstr=\"最小生成树总权值：\"+str(wsum)+'\\n'         #整理输出\n",
    "    for node in Spantree:\n",
    "        spanstr+=self.vertexList[node[0]].vertexName+\"->\"\n",
    "        spanstr+=self.vertexList[node[1]].vertexName+'\\n'\n",
    "        spanstr+=\"     weight:\"+str(node[2])+'\\n'\n",
    "    return spanstr"
   ]
  },
  {
   "cell_type": "markdown",
   "metadata": {},
   "source": [
    "#### 最短路径：Dijkstra算法、Floyd算法\n",
    "**Dijkstra算法** Dijkstra是一种贪心算法，是以图中一个点作为源点，该源点到其他各个点的最短路径的算法。源点是固定不动的，代码中用dst一维数组记录源点到第k个顶点的最短路径。每次找到离源点最近的一个顶点u，然后拿这个顶点u进行更新dst数组(即dst[k] = min(dst[k] , dst[u] + edge[u][k]))，直至所有顶点被遍历。\n",
    "\n",
    "**Floyd算法** Floyd算法是经典的动态规划算法，基本思想是递推产生一个邻接矩阵序列$A_1,A_2,.....,A_k,...,A_n$（图有n个节点），$A_k=(a_k(i,j))_{nxn}$。其中矩阵Ak第i行第j列表示从顶点vi到顶点vj的路径上经过的顶点序号不大于k的最短路径长度。$a_k(i,j)=min \\{a_{k-1}(i,j),a_{k-1}(i,k)+a_{k-1}(k,j)\\}$。如果需要记录路径，那么需要引入路由矩阵。路由矩阵$R_k=(r_k(i,j))_{nxn}$,用来记录两点之间路径的前驱后继的关系，其中$r_k(i,j)$表示从顶点vi到顶点vj的路径经过编号为$r_k(i,j)$的顶点。\n",
    "\n",
    "Dijkstra算法解决了单源点到其余所有顶点的最短路径问题。\n",
    "Floyd算法解决了多源点到其余所有顶点的最短路径问题。"
   ]
  }
 ],
 "metadata": {
  "kernelspec": {
   "display_name": "base",
   "language": "python",
   "name": "python3"
  },
  "language_info": {
   "codemirror_mode": {
    "name": "ipython",
    "version": 3
   },
   "file_extension": ".py",
   "mimetype": "text/x-python",
   "name": "python",
   "nbconvert_exporter": "python",
   "pygments_lexer": "ipython3",
   "version": "3.9.12 (main, Apr  4 2022, 05:22:27) [MSC v.1916 64 bit (AMD64)]"
  },
  "orig_nbformat": 4,
  "vscode": {
   "interpreter": {
    "hash": "b09ec625f77bf4fd762565a912b97636504ad6ec901eb2d0f4cf5a7de23e1ee5"
   }
  }
 },
 "nbformat": 4,
 "nbformat_minor": 2
}
