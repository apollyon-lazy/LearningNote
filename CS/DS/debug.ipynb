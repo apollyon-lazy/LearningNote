{
 "cells": [
  {
   "cell_type": "markdown",
   "metadata": {},
   "source": [
    "《大话数据结构》CSDN 上比较全的笔记  \n",
    "https://blog.csdn.net/weixin_44571010/article/details/115677735  \n",
    "全栈潇晨 大佬自建站 数据结构课件加资料  \n",
    "https://xiaochen1024.com/courseware/60b4f11ab1aa91002eb53b18"
   ]
  },
  {
   "cell_type": "code",
   "execution_count": null,
   "metadata": {},
   "outputs": [
    {
     "name": "stdout",
     "output_type": "stream",
     "text": [
      "[1, 1, 2, 3, 5, 8, 13, 21, 34]\n"
     ]
    }
   ],
   "source": [
    "# 递归经典案例：斐波那契数列\n",
    "def fib(n):\n",
    "    if n == 1 or n == 2:\n",
    "        return 1\n",
    "    return fib(n - 1) + fib(n - 2)\n",
    "    \n",
    "arr = []\n",
    "for i in range(1,10):\n",
    "    arr.append(fib(i))\n",
    "print(arr)"
   ]
  },
  {
   "cell_type": "code",
   "execution_count": 7,
   "metadata": {},
   "outputs": [
    {
     "name": "stdout",
     "output_type": "stream",
     "text": [
      "[1, 2, 3, 5, 8, 13, 21, 34, 55]\n"
     ]
    }
   ],
   "source": [
    "# 递归问题：青蛙跳台问题\n",
    "def numWays(n: int) -> int:\n",
    "    a, b = 1, 1\n",
    "    for _ in range(n):\n",
    "        a, b = b, a + b\n",
    "    return a % 1000000007\n",
    "arr = []\n",
    "for i in range(1,10):\n",
    "    arr.append(numWays(i))\n",
    "print(arr)"
   ]
  },
  {
   "cell_type": "code",
   "execution_count": 12,
   "metadata": {},
   "outputs": [],
   "source": [
    "for i in range(5,-1):\n",
    "    print(i)"
   ]
  }
 ],
 "metadata": {
  "kernelspec": {
   "display_name": "Python 3.9.12 ('D2L')",
   "language": "python",
   "name": "python3"
  },
  "language_info": {
   "codemirror_mode": {
    "name": "ipython",
    "version": 3
   },
   "file_extension": ".py",
   "mimetype": "text/x-python",
   "name": "python",
   "nbconvert_exporter": "python",
   "pygments_lexer": "ipython3",
   "version": "3.9.12"
  },
  "orig_nbformat": 4,
  "vscode": {
   "interpreter": {
    "hash": "3d851a414fdd845bfa8f48e7264b4dfc9dcd5160173adfe6311d45ffdb836796"
   }
  }
 },
 "nbformat": 4,
 "nbformat_minor": 2
}
