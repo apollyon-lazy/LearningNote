{
 "cells": [
  {
   "cell_type": "markdown",
   "id": "bde1645e",
   "metadata": {},
   "source": [
    "### 一\n",
    "#### Brainstorming\n",
    "- 寻找区间分析编程工具\n",
    "    - C++ BIAS PROTEL / MATLAB INTLABv_6\n",
    "- 进一步寻找区间分析的文献\n",
    "    - Interval Analysis workspace\n",
    "        - 寻找论文的代码\n",
    "        - 寻找论文切入点 明确什么是可行的\n",
    "    - Stewart workspace analysis\n",
    "    - Merlet.\n",
    "        - 近几年文献集中在CDPM上 涉及区间不多\n",
    "    - 国内文献\n",
    "    - 其他国际研究者\n",
    "    - 图书馆借阅\n",
    "    - SCI\n",
    "---\n",
    "#### Task\n",
    "- 重新熟悉VS2019\n",
    "    - 已完成\n",
    "- 评估BIAS PROTEL的可行性\n",
    "    - 不可行\n",
    "- 在github上寻找源代码并分析\n",
    "    - 已找到所有易读MATLAB代码    \n",
    "---\n",
    "#### Summary\n",
    "> **工具** 选用支持MATLAB的INTLABv_6  \n",
    "> **方向** 搭建一个运动平台简易模型求解工作空间  \n",
    "> **问题** 改进文献代码方法 提升学习效率！  "
   ]
  },
  {
   "cell_type": "markdown",
   "id": "0d71ee24",
   "metadata": {
    "ExecuteTime": {
     "end_time": "2022-07-24T12:27:26.871846Z",
     "start_time": "2022-07-24T12:27:26.865862Z"
    }
   },
   "source": [
    "### 二\n",
    "#### Brainstorming\n",
    "- 进一步学习并联机器人知识\n",
    "    - 正向运动学 Newton-Repson 动力学 欧拉法 拉格朗日法\n",
    "- 多体动力学建模\n",
    "    - Simscope Simmechinics 多体动力学"
   ]
  },
  {
   "cell_type": "markdown",
   "id": "1fb636cf",
   "metadata": {},
   "source": [
    "### 三\n",
    "#### Brainstorming\n",
    "- 区间分析求解工作空间代码的解析\n",
    "    - 寻找并编写传统方法代码\n",
    "    - 明确区间分析的结合点\n",
    "    - 明确工作空间评价指标\n",
    "- 中期答辩PPT的制作\n",
    "    - 组织语言表达观点 \n",
    "---\n",
    "#### Summary\n",
    "> **汇报**   汇报进度要分条列点 事实 + 看法(思路) + 问题(解决方案) + 进展(猜测) "
   ]
  },
  {
   "cell_type": "markdown",
   "id": "86666d16",
   "metadata": {},
   "source": [
    "### 四\n",
    "#### Brainstorming\n",
    "- 典型飞行训练任务\n",
    "    - 明确剩余工作空间\n",
    "    - 工作空间实际应用思路\n",
    "- 工作空间优化模型\n",
    "    - 粒子群 遗传 退火\n",
    "- 论文撰写\n",
    "- 文献阅读效率提升"
   ]
  },
  {
   "cell_type": "markdown",
   "id": "4eb189de",
   "metadata": {},
   "source": [
    "### 五\n",
    "#### Brainstorming\n",
    "- 完成论文初稿\n",
    "- 文献阅读效率提升"
   ]
  },
  {
   "cell_type": "markdown",
   "id": "babf378d",
   "metadata": {},
   "source": [
    "### 六\n",
    "#### Brainstorming\n",
    "- 椭球体 六维表示\n",
    "    - 高维工作空间如何利用\n",
    "- 完成工作空间分析报告的配图\n",
    "    - 绘制论文配图的软件\n",
    "    \n",
    "#### Summary\n",
    "> **知识体系**    \n",
    "如果把文献领域比作一座山 越新的文献越位于高处  \n",
    "那么要明确自己收集的文献集合 是位于***山顶 山腰 山底***  \n",
    "是否存在上山的另一条路 ***山背面***   \n",
    "> **文献阅读**  \n",
    "粗度先读摘要 细读只读相关部分  \n",
    "> **任务安排**  \n",
    "即便是安排多任务同时进行 也要给每个任务留出获得进展的时间(不要中途放弃)  \n",
    "> **论文排版**  "
   ]
  },
  {
   "cell_type": "code",
   "execution_count": null,
   "id": "b0798b3b",
   "metadata": {},
   "outputs": [],
   "source": []
  }
 ],
 "metadata": {
  "kernelspec": {
   "display_name": "D2L",
   "language": "python",
   "name": "d2l"
  },
  "language_info": {
   "codemirror_mode": {
    "name": "ipython",
    "version": 3
   },
   "file_extension": ".py",
   "mimetype": "text/x-python",
   "name": "python",
   "nbconvert_exporter": "python",
   "pygments_lexer": "ipython3",
   "version": "3.9.12"
  },
  "toc": {
   "base_numbering": 1,
   "nav_menu": {
    "height": "206px",
    "width": "219px"
   },
   "number_sections": false,
   "sideBar": true,
   "skip_h1_title": false,
   "title_cell": "Table of Contents",
   "title_sidebar": "Contents",
   "toc_cell": false,
   "toc_position": {
    "height": "calc(100% - 180px)",
    "left": "10px",
    "top": "150px",
    "width": "165px"
   },
   "toc_section_display": true,
   "toc_window_display": false
  }
 },
 "nbformat": 4,
 "nbformat_minor": 5
}
